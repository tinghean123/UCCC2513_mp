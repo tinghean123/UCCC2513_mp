{
 "cells": [
  {
   "cell_type": "code",
   "execution_count": 4,
   "id": "c71e1d65",
   "metadata": {},
   "outputs": [
    {
     "data": {
      "text/plain": [
       "True"
      ]
     },
     "execution_count": 4,
     "metadata": {},
     "output_type": "execute_result"
    }
   ],
   "source": [
    "import sys\n",
    "# Python 3.7 is required\n",
    "assert sys.version_info >= (3,7)\n",
    "\n",
    "import cv2 as cv\n",
    "import numpy as np\n",
    "\n",
    "# For reproducibility,\n",
    "np.random.seed(99)\n",
    "\n",
    "# Make sure that optimization is enabled\n",
    "if not cv.useOptimized():\n",
    "    cv.setUseOptimized(True)\n",
    "\n",
    "cv.useOptimized()"
   ]
  },
  {
   "cell_type": "code",
   "execution_count": null,
   "id": "2867c2ff",
   "metadata": {},
   "outputs": [],
   "source": [
    "#Suggest two ways and write codes to display two images simultaneously. You can use any image snapped from your handphone, downloaded from internet or images from week 4 materials on MS teams. The two images are a color image and its corresponding grayscale image.\n",
    "img = cv.imread('lena.jpg')\n",
    "gray = cv.cvtColor(img, cv.COLOR_BGR2GRAY)\n",
    "cv.imshow('img', img)\n",
    "cv.imshow('gray', gray)\n",
    "cv.waitKey(0)\n"
   ]
  },
  {
   "cell_type": "code",
   "execution_count": 25,
   "id": "6664f1fb",
   "metadata": {},
   "outputs": [],
   "source": [
    "#Write codes that performs the following:\n",
    "#Load the video “img_pexels.mp4” into the Python environment, resize it and display the videos with smaller frames (The frames can be of any size, as long as it is smaller). You can specify an arbitrary frame rate.\n",
    "#Save it as a separate files: “smaller_img_pexels.avi” or \"smaller_img_pexels.mp4\"\n",
    "\n",
    "# Create a VideoCapture object\n",
    "cap = cv.VideoCapture('img_pexels.mp4')\n",
    "width = int(cap.get(3))\n",
    "height = int(cap.get(4))\n",
    "# Define the codec and create VideoWriter object\n",
    "fourcc = cv.VideoWriter_fourcc('M', 'J', 'P', 'G')\n",
    "fps = 20\n",
    "out = cv.VideoWriter('smaller_img_pexels.avi', fourcc, fps, (width,height))\n",
    "# Check if the object has been created successfully\n",
    "if not cap.isOpened():\n",
    "    print(\"Unable to create video\")\n",
    "\n",
    "# Read until the video is completed.\n",
    "while cap.isOpened():\n",
    "    ret, frame = cap.read()\n",
    "    # if frame is read then ret is True\n",
    "    if not ret:\n",
    "        print(\"Can't receive frame.\")\n",
    "        break\n",
    "    out.write(frame)\n",
    "    frame = cv.resize(frame, None, fx=0.5, fy=0.5,interpolation = cv.INTER_LINEAR)\n",
    "    cv.imshow('frame', frame)\n",
    "    if cv.waitKey(1) & 0xFF == 27:\n",
    "        break\n",
    "\n",
    "# destroy the constructor\n",
    "cap.release()\n",
    "out.release()\n",
    "cv.destroyAllWindows()"
   ]
  },
  {
   "cell_type": "code",
   "execution_count": 10,
   "id": "4ff981cb",
   "metadata": {},
   "outputs": [
    {
     "data": {
      "text/plain": [
       "-1"
      ]
     },
     "execution_count": 10,
     "metadata": {},
     "output_type": "execute_result"
    }
   ],
   "source": [
    "#Create a random noise color and grayscale image. You can set a custom width and height. (Hint: use Numpy functions like np.array and np.reshape.)\n",
    "import random\n",
    "img = np.empty((300, 300, 3), np.uint8)\n",
    "for row in range(300):\n",
    "      for col in range(img.shape[1]):\n",
    "               img[row][col] = [random.randint(0, 255), random.randint(0, 255), random.randint(0, 255)]\n",
    "               \n",
    "cv.imshow('img', img)\n",
    "image= np.empty((300, 300, 3), np.uint8)\n",
    "height, width, channel = image.shape\n",
    "for i in range(0, height):\n",
    "    for j in range(0, width):\n",
    "        blueComponent = image[i][j][0]\n",
    "        greenComponent = image[i][j][1]\n",
    "        redComponent = image[i][j][2]\n",
    "        grayValue = 0.07 * blueComponent + 0.72 * greenComponent + 0.21 * redComponent\n",
    "        image[i][j] = grayValue\n",
    "cv.imshow(\"GrayScale\",image)\n",
    "cv.waitKey(0)\n",
    "\n",
    "\n",
    "\n"
   ]
  },
  {
   "cell_type": "code",
   "execution_count": null,
   "id": "29113d3a",
   "metadata": {},
   "outputs": [],
   "source": [
    "#Extract the region of interest (flower) from the 'flower.jfif'.\n",
    "\n",
    "img=cv.imread(\"flower.jfif\")\n",
    "# Select ROI\n",
    "r = cv.selectROI(\"select the area\", img)\n",
    "print(r)\n",
    "# Crop image\n",
    "cropped_image = img[int(r[1]):int(r[1]+r[3]), \n",
    "                      int(r[0]):int(r[0]+r[2])]\n",
    "  \n",
    "# Display cropped image\n",
    "cv.imshow(\"Cropped image\", cropped_image)\n",
    "cv.waitKey(0)\n",
    "\n",
    "#from the value of array r we can find the range of the img \n",
    "\n",
    "img=cv.imread(\"flower.jfif\")\n",
    "new_img=img[41:173,90:167]#img[int(r[1]):int(r[1]+r[3]), int(r[0]):int(r[0]+r[2])],41:90+83，90：83+84\n",
    "\n",
    "cv.imshow('img', img)\n",
    "cv.imshow('img', new_img)\n",
    "cv.waitKey(0)"
   ]
  },
  {
   "cell_type": "code",
   "execution_count": null,
   "id": "c6de0a9d",
   "metadata": {},
   "outputs": [],
   "source": [
    "#Enlarge the image \"dog.jfif\" by using different techniques: 1) Linear interpolation, 2) Cubic interpolation and 3) nearest neighbor interpolation. Comment on the upscaled of all the outputs.\n",
    "\n",
    "img=cv.imread(\"dog.jfif\")\n",
    "\n",
    "scale_up=2\n",
    "#INTER_CUBIC: This uses bicubic interpolation for resizing the image. While resizing and interpolating new pixels, this method acts on the 4×4 neighboring pixels of the image. It then takes the weights average of the 16 pixels to create the new interpolated pixel.\n",
    "cubic = cv.resize(img, None, fx= scale_up, fy= scale_up, interpolation = cv.INTER_CUBIC)\n",
    "#INTER_LINEAR: This method is somewhat similar to the INTER_CUBIC interpolation. But unlike INTER_CUBIC, this uses 2×2 neighboring pixels to get the weighted average for the interpolated pixel.\n",
    "interlinear = cv.resize(img, None, fx= scale_up, fy= scale_up, interpolation = cv.INTER_LINEAR)\n",
    "#INTER_NEAREST: The INTER_NEAREST method uses the nearest neighbor concept for interpolation. This is one of the simplest methods, using only one neighboring pixel from the image for interpolation.\n",
    "res_inter_nearest = cv.resize(img, None, fx= scale_up, fy= scale_up, interpolation= cv.INTER_NEAREST)\n",
    "cv.imshow('linear', interlinear)\n",
    "cv.imshow('cubic', cubic)\n",
    "cv.imshow('nearest', res_inter_nearest)\n",
    "cv.waitKey(0)\n",
    "cv.destroyAllWindows()\n",
    "\n"
   ]
  },
  {
   "cell_type": "code",
   "execution_count": 7,
   "id": "0d35490e",
   "metadata": {},
   "outputs": [],
   "source": [
    "\n",
    " \n"
   ]
  },
  {
   "cell_type": "code",
   "execution_count": null,
   "id": "54fc2201",
   "metadata": {},
   "outputs": [],
   "source": []
  },
  {
   "cell_type": "code",
   "execution_count": 1,
   "id": "3954fe5f",
   "metadata": {},
   "outputs": [
    {
     "data": {
      "text/plain": [
       "True"
      ]
     },
     "execution_count": 1,
     "metadata": {},
     "output_type": "execute_result"
    }
   ],
   "source": []
  }
 ],
 "metadata": {
  "kernelspec": {
   "display_name": "Python 3 (ipykernel)",
   "language": "python",
   "name": "python3"
  },
  "language_info": {
   "codemirror_mode": {
    "name": "ipython",
    "version": 3
   },
   "file_extension": ".py",
   "mimetype": "text/x-python",
   "name": "python",
   "nbconvert_exporter": "python",
   "pygments_lexer": "ipython3",
   "version": "3.9.12"
  }
 },
 "nbformat": 4,
 "nbformat_minor": 5
}
